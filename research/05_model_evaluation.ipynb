{
 "cells": [
  {
   "cell_type": "code",
   "execution_count": 1,
   "metadata": {},
   "outputs": [],
   "source": [
    "import os\n",
    "os.chdir('../')"
   ]
  },
  {
   "cell_type": "code",
   "execution_count": 2,
   "metadata": {},
   "outputs": [
    {
     "data": {
      "text/plain": [
       "'e:\\\\EndToEnd\\\\01_MLOps'"
      ]
     },
     "execution_count": 2,
     "metadata": {},
     "output_type": "execute_result"
    }
   ],
   "source": [
    "%pwd"
   ]
  },
  {
   "cell_type": "code",
   "execution_count": 3,
   "metadata": {},
   "outputs": [],
   "source": [
    "os.environ[\"MLFLOW_TRACKING_URI\"]=\"https://dagshub.com/deasadiqbal/01_MLOps.mlflow\"\n",
    "os.environ[\"MLFLOW_TRACKING_USERNAME\"]=\"deasadiqbal\"\n",
    "os.environ[\"MLFLOW_TRACKING_PASSWORD\"]=\"56b8918094b5da7d4d487c082b35b97b710ede54\""
   ]
  },
  {
   "cell_type": "markdown",
   "metadata": {},
   "source": [
    "## Entity"
   ]
  },
  {
   "cell_type": "code",
   "execution_count": 51,
   "metadata": {},
   "outputs": [],
   "source": [
    "from dataclasses import dataclass\n",
    "from pathlib import Path\n",
    "\n",
    "@dataclass(frozen=True)\n",
    "class ModelEvaluationConfig:\n",
    "    root_dir: Path\n",
    "    test_data_dir: Path\n",
    "    model_dir: Path\n",
    "    metrix_filename: Path\n",
    "    all_params: dict\n",
    "    target_col: str\n",
    "    mlflow_uri: str"
   ]
  },
  {
   "cell_type": "markdown",
   "metadata": {},
   "source": [
    "## Configratution\n"
   ]
  },
  {
   "cell_type": "code",
   "execution_count": 57,
   "metadata": {},
   "outputs": [],
   "source": [
    "from mlops_wine_quality.utils.common import read_yaml, create_dirs\n",
    "from mlops_wine_quality.constants import *\n",
    "\n",
    "class ConfigManger:\n",
    "    def __init__(self,\n",
    "            config_filepath = CONFIG_FILE_PATH,\n",
    "            schema_filepath = SCHEMA_FILE_PATH,\n",
    "            params_filepath = PARAMS_FILE_PATH):\n",
    "        \n",
    "        self.config = read_yaml(config_filepath)\n",
    "        self.schema = read_yaml(schema_filepath)\n",
    "        self.params = read_yaml(params_filepath)\n",
    "\n",
    "    def get_model_evaluation_config(self) -> ModelEvaluationConfig:\n",
    "        config = self.config.model_evaluation\n",
    "        target_col = self.schema.TARGET_COLUMN\n",
    "        params = self.params.Elasticnet\n",
    "\n",
    "        create_dirs([config.root_dir])\n",
    "\n",
    "        configs = ModelEvaluationConfig(\n",
    "            root_dir=config.root_dir,\n",
    "            test_data_dir=config.test_data_dir,\n",
    "            model_dir=config.model_dir,\n",
    "            metrix_filename=config.metrix_filename,\n",
    "            all_params=params,                        \n",
    "            target_col=target_col.name,\n",
    "            mlflow_uri=\"https://dagshub.com/deasadiqbal/01_MLOps.mlflow\"\n",
    "        )\n",
    "        return configs"
   ]
  },
  {
   "cell_type": "markdown",
   "metadata": {},
   "source": [
    "## components"
   ]
  },
  {
   "cell_type": "code",
   "execution_count": 58,
   "metadata": {},
   "outputs": [],
   "source": [
    "import os\n",
    "import pandas as pd\n",
    "from sklearn.metrics import mean_squared_error, mean_absolute_error, r2_score\n",
    "from mlops_wine_quality.utils.common import save_json\n",
    "from urllib.parse import urlparse\n",
    "import mlflow\n",
    "import mlflow.sklearn\n",
    "import numpy as np\n",
    "import joblib\n",
    "\n",
    "class ModelEvaluation:\n",
    "    def __init__(self, config: ModelEvaluationConfig):\n",
    "        self.config = config\n",
    "    \n",
    "    def evel_metrix(self, y_test, predicitons):\n",
    "        rmse = np.sqrt(mean_squared_error(y_test, predicitons))\n",
    "        mae = mean_absolute_error(y_test, predicitons)\n",
    "        r2 = r2_score(y_test, predicitons)\n",
    "        return rmse, mae, r2\n",
    "\n",
    "    def start_with_mlflow(self):\n",
    "        test_data = pd.read_csv(self.config.test_data_dir)\n",
    "        model_dir = self.config.model_dir\n",
    "\n",
    "        lr_model = joblib.load(model_dir)\n",
    "\n",
    "        x_test = test_data.drop(self.config.target_col, axis=1) \n",
    "        y_test = test_data[self.config.target_col]\n",
    "\n",
    "        mlflow.set_registry_uri(self.config.mlflow_uri)\n",
    "        tracking_url_type_store = urlparse(mlflow.get_registry_uri()).scheme\n",
    "\n",
    "        with mlflow.start_run():\n",
    "            perdictions = lr_model.predict(x_test)\n",
    "            (rmse, mae, r2) = self.evel_metrix(y_test, perdictions)\n",
    "\n",
    "            scores = {\n",
    "                \"rmse\": rmse,\n",
    "                \"mae\": mae,\n",
    "                \"r2\": r2\n",
    "            }\n",
    "            save_json(path=Path(self.config.metrix_filename), data=scores)\n",
    "\n",
    "            mlflow.log_params(self.config.all_params)\n",
    "\n",
    "            mlflow.log_metric(\"rmse\", rmse)\n",
    "            mlflow.log_metric(\"mae\", mae)\n",
    "            mlflow.log_metric(\"r2\", r2)\n",
    "\n",
    "            if tracking_url_type_store != \"file\":\n",
    "                mlflow.sklearn.log_model(lr_model, \"model\", registered_model_name=\"ElasticnetWineModel\")\n",
    "            else:\n",
    "                mlflow.sklearn.log_model(lr_model, \"model\")"
   ]
  },
  {
   "cell_type": "markdown",
   "metadata": {},
   "source": [
    "## Pipeline"
   ]
  },
  {
   "cell_type": "code",
   "execution_count": 59,
   "metadata": {},
   "outputs": [
    {
     "name": "stdout",
     "output_type": "stream",
     "text": [
      "[2024-01-21 18:36:05,169: INFO: common: Yaml file loaded successfully]\n",
      "[2024-01-21 18:36:05,177: INFO: common: Yaml file loaded successfully]\n",
      "[2024-01-21 18:36:05,184: INFO: common: Yaml file loaded successfully]\n",
      "[2024-01-21 18:36:05,186: INFO: common: Created directory at artifacts/model_evaluation]\n"
     ]
    },
    {
     "name": "stdout",
     "output_type": "stream",
     "text": [
      "[2024-01-21 18:36:05,941: INFO: common: Saved json file at artifacts\\model_evaluation\\metrics.json]\n"
     ]
    },
    {
     "name": "stderr",
     "output_type": "stream",
     "text": [
      "Registered model 'ElasticnetWineModel' already exists. Creating a new version of this model...\n",
      "2024/01/21 18:36:16 INFO mlflow.store.model_registry.abstract_store: Waiting up to 300 seconds for model version to finish creation. Model name: ElasticnetWineModel, version 2\n",
      "Created version '2' of model 'ElasticnetWineModel'.\n"
     ]
    }
   ],
   "source": [
    "try:\n",
    "    config = ConfigManger()\n",
    "    model_evaluation_config = config.get_model_evaluation_config()\n",
    "\n",
    "    model_eval = ModelEvaluation(model_evaluation_config)\n",
    "    model_eval.start_with_mlflow()\n",
    "except Exception as e:\n",
    "    raise e"
   ]
  },
  {
   "cell_type": "code",
   "execution_count": null,
   "metadata": {},
   "outputs": [],
   "source": []
  },
  {
   "cell_type": "code",
   "execution_count": null,
   "metadata": {},
   "outputs": [],
   "source": []
  },
  {
   "cell_type": "code",
   "execution_count": null,
   "metadata": {},
   "outputs": [],
   "source": []
  },
  {
   "cell_type": "code",
   "execution_count": null,
   "metadata": {},
   "outputs": [],
   "source": []
  }
 ],
 "metadata": {
  "kernelspec": {
   "display_name": "Python 3",
   "language": "python",
   "name": "python3"
  },
  "language_info": {
   "codemirror_mode": {
    "name": "ipython",
    "version": 3
   },
   "file_extension": ".py",
   "mimetype": "text/x-python",
   "name": "python",
   "nbconvert_exporter": "python",
   "pygments_lexer": "ipython3",
   "version": "3.12.1"
  }
 },
 "nbformat": 4,
 "nbformat_minor": 2
}
