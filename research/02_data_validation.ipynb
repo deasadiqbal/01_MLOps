{
 "cells": [
  {
   "cell_type": "code",
   "execution_count": 2,
   "metadata": {},
   "outputs": [
    {
     "data": {
      "text/plain": [
       "'e:\\\\EndToEnd\\\\01_MLOps\\\\research'"
      ]
     },
     "execution_count": 2,
     "metadata": {},
     "output_type": "execute_result"
    }
   ],
   "source": [
    "%pwd"
   ]
  },
  {
   "cell_type": "code",
   "execution_count": 3,
   "metadata": {},
   "outputs": [],
   "source": [
    "import os\n",
    "os.chdir('../')"
   ]
  },
  {
   "cell_type": "code",
   "execution_count": 4,
   "metadata": {},
   "outputs": [
    {
     "data": {
      "text/plain": [
       "'e:\\\\EndToEnd\\\\01_MLOps'"
      ]
     },
     "execution_count": 4,
     "metadata": {},
     "output_type": "execute_result"
    }
   ],
   "source": [
    "%pwd"
   ]
  },
  {
   "cell_type": "markdown",
   "metadata": {},
   "source": [
    "## Entity"
   ]
  },
  {
   "cell_type": "code",
   "execution_count": 25,
   "metadata": {},
   "outputs": [],
   "source": [
    "from dataclasses import dataclass\n",
    "from pathlib import Path\n",
    "\n",
    "@dataclass\n",
    "class DataValidationConfig:\n",
    "    root_dir: Path\n",
    "    STATS_FILE: Path\n",
    "    local_file_path: str\n",
    "    all_schema: dict"
   ]
  },
  {
   "cell_type": "markdown",
   "metadata": {},
   "source": [
    "## Configration"
   ]
  },
  {
   "cell_type": "code",
   "execution_count": 53,
   "metadata": {},
   "outputs": [],
   "source": [
    "from mlops_wine_quality.constants import *\n",
    "from mlops_wine_quality.utils.common import read_yaml, create_dirs\n",
    "\n",
    "class ConfigManger:\n",
    "    def __init__(self,\n",
    "                 config_filepath = CONFIG_FILE_PATH,\n",
    "                 schema_filepath = SCHEMA_FILE_PATH):\n",
    "        \n",
    "        self.config = read_yaml(config_filepath)\n",
    "        self.schema = read_yaml(schema_filepath)\n",
    "\n",
    "        create_dirs([self.config.artifacts_root])\n",
    "\n",
    "    def get_data_validation_config(self) -> DataValidationConfig:\n",
    "        config = self.config.data_validation\n",
    "        schema = self.schema.COLUMNS\n",
    "\n",
    "        create_dirs([config.root_dir])\n",
    "        \n",
    "        return DataValidationConfig(\n",
    "            root_dir= config.root_dir,\n",
    "            STATS_FILE= config.STATS_FILE,\n",
    "            local_file_path= config.local_file_path,\n",
    "            all_schema= schema\n",
    "            \n",
    "        )"
   ]
  },
  {
   "cell_type": "markdown",
   "metadata": {},
   "source": [
    "## Components"
   ]
  },
  {
   "cell_type": "code",
   "execution_count": 66,
   "metadata": {},
   "outputs": [],
   "source": [
    "import os\n",
    "import pandas as pd\n",
    "from mlops_wine_quality import logger\n",
    "\n",
    "class DataValidation:\n",
    "    def __init__(self, config: DataValidationConfig):\n",
    "        self.config = config\n",
    "\n",
    "    def validate(self) -> bool:\n",
    "        try:\n",
    "            validation_status = None\n",
    "            \n",
    "            data = pd.read_csv(self.config.local_file_path)\n",
    "            logger.info(f\"Data read from {self.config.local_file_path}\")\n",
    "\n",
    "            # print(data.info())\n",
    "\n",
    "            data_clos = list(data.columns)\n",
    "            schema_cols = self.config.all_schema.keys()\n",
    "            \n",
    "            for col in data_clos:\n",
    "                if col not in schema_cols:\n",
    "                    \n",
    "                    validation_status = False\n",
    "                \n",
    "                else:\n",
    "                    validation_status = True\n",
    "\n",
    "                logger.info(f\"validation completed with status: {validation_status}\")\n",
    "                \n",
    "            return validation_status\n",
    "            \n",
    "        except Exception as e:\n",
    "\n",
    "            raise e\n"
   ]
  },
  {
   "cell_type": "markdown",
   "metadata": {},
   "source": [
    "## Pipeline"
   ]
  },
  {
   "cell_type": "code",
   "execution_count": 69,
   "metadata": {},
   "outputs": [
    {
     "name": "stdout",
     "output_type": "stream",
     "text": [
      "[2024-01-20 01:57:20,871: INFO: common: Yaml file loaded successfully]\n",
      "[2024-01-20 01:57:20,877: INFO: common: Yaml file loaded successfully]\n",
      "[2024-01-20 01:57:20,879: INFO: common: Created directory at artifacts]\n",
      "[2024-01-20 01:57:20,881: INFO: common: Created directory at artifacts/data_validation]\n",
      "[2024-01-20 01:57:20,891: INFO: 695780255: Data read from artifacts/data_ingestion/winequality-red.csv]\n",
      "[2024-01-20 01:57:20,892: INFO: 695780255: validation completed with status: True]\n",
      "[2024-01-20 01:57:20,894: INFO: 695780255: validation completed with status: True]\n",
      "[2024-01-20 01:57:20,896: INFO: 695780255: validation completed with status: True]\n",
      "[2024-01-20 01:57:20,897: INFO: 695780255: validation completed with status: True]\n",
      "[2024-01-20 01:57:20,899: INFO: 695780255: validation completed with status: True]\n",
      "[2024-01-20 01:57:20,899: INFO: 695780255: validation completed with status: True]\n",
      "[2024-01-20 01:57:20,899: INFO: 695780255: validation completed with status: True]\n",
      "[2024-01-20 01:57:20,899: INFO: 695780255: validation completed with status: True]\n",
      "[2024-01-20 01:57:20,899: INFO: 695780255: validation completed with status: True]\n",
      "[2024-01-20 01:57:20,906: INFO: 695780255: validation completed with status: True]\n",
      "[2024-01-20 01:57:20,906: INFO: 695780255: validation completed with status: True]\n",
      "[2024-01-20 01:57:20,906: INFO: 695780255: validation completed with status: True]\n"
     ]
    }
   ],
   "source": [
    "try:\n",
    "    config = ConfigManger()\n",
    "    data_validation_config = config.get_data_validation_config()\n",
    "    data_validation = DataValidation(data_validation_config)\n",
    "    data_validation.validate()\n",
    "except Exception as e:\n",
    "    raise e"
   ]
  },
  {
   "cell_type": "code",
   "execution_count": null,
   "metadata": {},
   "outputs": [],
   "source": []
  },
  {
   "cell_type": "code",
   "execution_count": null,
   "metadata": {},
   "outputs": [],
   "source": []
  }
 ],
 "metadata": {
  "kernelspec": {
   "display_name": "Python 3",
   "language": "python",
   "name": "python3"
  },
  "language_info": {
   "codemirror_mode": {
    "name": "ipython",
    "version": 3
   },
   "file_extension": ".py",
   "mimetype": "text/x-python",
   "name": "python",
   "nbconvert_exporter": "python",
   "pygments_lexer": "ipython3",
   "version": "3.12.1"
  }
 },
 "nbformat": 4,
 "nbformat_minor": 2
}
