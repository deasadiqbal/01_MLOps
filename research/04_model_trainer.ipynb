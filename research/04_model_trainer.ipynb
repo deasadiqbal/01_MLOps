{
 "cells": [
  {
   "cell_type": "code",
   "execution_count": 1,
   "metadata": {},
   "outputs": [],
   "source": [
    "import os\n",
    "os.chdir('../')"
   ]
  },
  {
   "cell_type": "code",
   "execution_count": 2,
   "metadata": {},
   "outputs": [
    {
     "data": {
      "text/plain": [
       "'e:\\\\EndToEnd\\\\01_MLOps'"
      ]
     },
     "execution_count": 2,
     "metadata": {},
     "output_type": "execute_result"
    }
   ],
   "source": [
    "%pwd"
   ]
  },
  {
   "cell_type": "markdown",
   "metadata": {},
   "source": [
    "## Entity"
   ]
  },
  {
   "cell_type": "code",
   "execution_count": 6,
   "metadata": {},
   "outputs": [],
   "source": [
    "from dataclasses import dataclass\n",
    "from pathlib import Path\n",
    "\n",
    "@dataclass(frozen=True)\n",
    "class ModelTrainingConfig:\n",
    "    root_dir: Path\n",
    "    train_data_dir: Path\n",
    "    test_data_dir: Path\n",
    "    model_name: str\n",
    "    alpha: float\n",
    "    l1_ratio: float\n",
    "    target_col: str"
   ]
  },
  {
   "cell_type": "markdown",
   "metadata": {},
   "source": [
    "## configuration"
   ]
  },
  {
   "cell_type": "code",
   "execution_count": 21,
   "metadata": {},
   "outputs": [],
   "source": [
    "from mlops_wine_quality.utils.common import read_yaml, create_dirs\n",
    "from mlops_wine_quality.constants import *\n",
    "\n",
    "class ConfigManger:\n",
    "    def __init__(self,\n",
    "            config_filepath = CONFIG_FILE_PATH,\n",
    "            schema_filepath = SCHEMA_FILE_PATH,\n",
    "            params_filepath = PARAMS_FILE_PATH):\n",
    "        \n",
    "        self.config = read_yaml(config_filepath)\n",
    "        self.schema = read_yaml(schema_filepath)\n",
    "        self.params = read_yaml(params_filepath)\n",
    "\n",
    "    def get_model_training_config(self) -> ModelTrainingConfig:\n",
    "        config = self.config.model_training\n",
    "        target_col = self.schema.TARGET_COLUMN\n",
    "        params = self.params.Elasticnet\n",
    "\n",
    "        create_dirs([config.root_dir])\n",
    "\n",
    "        return ModelTrainingConfig(\n",
    "            root_dir= config.root_dir,\n",
    "            train_data_dir= config.train_data_dir,\n",
    "            test_data_dir= config.test_data_dir,\n",
    "            model_name= config.model_name,\n",
    "            alpha= params.alpha,\n",
    "            l1_ratio= params.l1_ratio,\n",
    "            target_col= target_col.name\n",
    "            \n",
    "        )\n"
   ]
  },
  {
   "cell_type": "markdown",
   "metadata": {},
   "source": [
    "## Components"
   ]
  },
  {
   "cell_type": "code",
   "execution_count": 22,
   "metadata": {},
   "outputs": [],
   "source": [
    "# import elasticnet_regression\n",
    "from sklearn.linear_model import ElasticNet\n",
    "import joblib\n",
    "import pandas as pd\n",
    "from mlops_wine_quality import logger\n",
    "\n",
    "class ModelTraining:\n",
    "    def __init__(self, config: ModelTrainingConfig):\n",
    "        self.config = config\n",
    "    \n",
    "    def start_tarining(self):\n",
    "        train_data = pd.read_csv(self.config.train_data_dir)\n",
    "        test_data = pd.read_csv(self.config.test_data_dir)\n",
    "\n",
    "        x_train = train_data.drop(self.config.target_col, axis=1)\n",
    "        y_train = train_data[self.config.target_col]\n",
    "        x_test = test_data.drop(self.config.target_col, axis=1) \n",
    "        y_test = test_data[self.config.target_col]\n",
    "\n",
    "        lr_model = ElasticNet(\n",
    "            alpha=self.config.alpha,\n",
    "            l1_ratio=self.config.l1_ratio,\n",
    "            random_state=42\n",
    "        )\n",
    "        lr_model.fit(x_train, y_train)\n",
    "        # svae the model\n",
    "        joblib.dump(lr_model, os.path.join(self.config.root_dir, self.config.model_name))\n",
    "\n"
   ]
  },
  {
   "cell_type": "code",
   "execution_count": 23,
   "metadata": {},
   "outputs": [
    {
     "name": "stdout",
     "output_type": "stream",
     "text": [
      "[2024-01-21 00:08:42,128: INFO: common: Yaml file loaded successfully]\n",
      "[2024-01-21 00:08:42,135: INFO: common: Yaml file loaded successfully]\n",
      "[2024-01-21 00:08:42,137: INFO: common: Yaml file loaded successfully]\n",
      "[2024-01-21 00:08:42,139: INFO: common: Created directory at artifacts/model_training]\n",
      "[2024-01-21 00:08:42,140: INFO: 2605612774: Training started]\n",
      "[2024-01-21 00:08:42,176: INFO: 2605612774: Training completed]\n"
     ]
    }
   ],
   "source": [
    "try:\n",
    "    config = ConfigManger().get_model_training_config()\n",
    "    logger.info(\"Training started\")\n",
    "    training = ModelTraining(config)\n",
    "    training.start_tarining()\n",
    "    logger.info(\"Training completed\")\n",
    "except Exception as e:\n",
    "    raise e"
   ]
  },
  {
   "cell_type": "code",
   "execution_count": null,
   "metadata": {},
   "outputs": [],
   "source": []
  }
 ],
 "metadata": {
  "kernelspec": {
   "display_name": "Python 3",
   "language": "python",
   "name": "python3"
  },
  "language_info": {
   "codemirror_mode": {
    "name": "ipython",
    "version": 3
   },
   "file_extension": ".py",
   "mimetype": "text/x-python",
   "name": "python",
   "nbconvert_exporter": "python",
   "pygments_lexer": "ipython3",
   "version": "3.12.1"
  }
 },
 "nbformat": 4,
 "nbformat_minor": 2
}
